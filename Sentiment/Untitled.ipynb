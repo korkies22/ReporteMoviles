{
 "cells": [
  {
   "cell_type": "code",
   "execution_count": 4,
   "metadata": {},
   "outputs": [],
   "source": [
    "import numpy as np\n",
    "import matplotlib.pyplot as plt"
   ]
  },
  {
   "cell_type": "code",
   "execution_count": 11,
   "metadata": {},
   "outputs": [
    {
     "name": "stdout",
     "output_type": "stream",
     "text": [
      "158 394\n"
     ]
    },
    {
     "data": {
      "image/png": "[encoded data removed]",
      "text/plain": [
       "<matplotlib.figure.Figure at 0x7f969a0d8b90>"
      ]
     },
     "metadata": {},
     "output_type": "display_data"
    }
   ],
   "source": [
    "def is_float(value):\n",
    "  try:\n",
    "    float(value)\n",
    "    return True\n",
    "  except:\n",
    "    return False   \n",
    "f = open('sentiment','r')\n",
    "f1 = f.readlines()\n",
    "sents = [x.split(' ')[-1].replace('\\n','')for x in f1]\n",
    "sents = [float(x) for x in sents if is_float(x)]\n",
    "sentsnegs = [x for x in sents if x<0.5]\n",
    "sentspos = [x for x in sents if x>0.5]\n",
    "fig, axs = plt.subplots(1, sharey=True, tight_layout=True)\n",
    "n_bins = 20\n",
    "axs.hist(sents, bins=n_bins)\n",
    "print len(sentsnegs), len(sentspos)"
   ]
  }
 ],
 "metadata": {
  "kernelspec": {
   "display_name": "Python 2",
   "language": "python",
   "name": "python2"
  },
  "language_info": {
   "codemirror_mode": {
    "name": "ipython",
    "version": 2
   },
   "file_extension": ".py",
   "mimetype": "text/x-python",
   "name": "python",
   "nbconvert_exporter": "python",
   "pygments_lexer": "ipython2",
   "version": "2.7.15rc1"
  }
 },
 "nbformat": 4,
 "nbformat_minor": 2
}
